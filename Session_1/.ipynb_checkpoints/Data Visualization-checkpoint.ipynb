{
 "cells": [
  {
   "cell_type": "markdown",
   "id": "27f3d9df-eaec-496d-8d67-472bf4892af4",
   "metadata": {},
   "source": [
    "# Data Visualization\n",
    "\n",
    "\n",
    "Data visualization is the graphical representation of information and data. <br>\n",
    "By using visual elements like charts, graphs, and maps, data visualization tools provide an accessible way to see and understand trends, outliers, and patterns in data.<br>\n",
    "In the world of Big Data, data visualization tools and technologies are essential to analyze massive amounts of information and make data-driven decisions<br>\n",
    "A dashboard is an information visualization tool. It helps you monitor events or activities at a glance by providing insights on one or more pages or screens. <br>\n",
    "Unlike an infographic, which presents a static graphical representation, a dashboard conveys real-time information by pulling complex data points directly from large data sets.<br>\n",
    "An interactive dashboard makes it easy to sort, filter, or drill into different types of data as needed.<br>\n",
    "\n",
    "Tableau and Microsoft PowerBI are widely used Data Visualization tools<br>"
   ]
  },
  {
   "cell_type": "markdown",
   "id": "3c160e48-4f0d-46e4-81fe-423d23975c49",
   "metadata": {},
   "source": [
    "### Advantages of Good Data Visualization\n",
    "Data visualization is another form of visual art that grabs our interest and keeps our eyes on the message.<br>\n",
    "When we see a chart, we quickly see trends and outliers.<br>\n",
    "If we can see something, we internalize it quickly. It’s storytelling with a purpose. <br>\n",
    "If you’ve ever stared at a massive spreadsheet of data and couldn’t see a trend, you know how much more effective a visualization can be.<br>\n",
    "\n",
    "#### TO Understand BigData\n",
    "As the “age of Big Data” kicks into high-gear, visualization is an increasingly key tool to make sense of the trillions of rows of data generated every day.<br>\n",
    "Data visualization helps to tell stories by curating data into a form easier to understand, highlighting the trends and outliers.<br>\n",
    "A good visualization tells a story, removing the noise from data and highlighting the useful information<br>\n",
    "The data and the visuals need to work together, and there’s an art to combining great analysis with great storytelling.<br>"
   ]
  },
  {
   "cell_type": "markdown",
   "id": "0462040a-4f44-4467-be68-07983943b8d5",
   "metadata": {},
   "source": [
    "## Types of Visualizations\n",
    "\n",
    "Common general types of data visualization:\n",
    "\n",
    "    Charts\n",
    "    Tables\n",
    "    Graphs\n",
    "    Maps\n",
    "    Infographics\n",
    "    Dashboards\n",
    "\n",
    "More specific examples of methods to visualize data:\n",
    "\n",
    "    Area Chart\n",
    "    Bar Chart\n",
    "    Box-and-whisker Plots\n",
    "    Bubble Cloud\n",
    "    Bullet Graph\n",
    "    Cartogram\n",
    "    Circle View\n",
    "    Dot Distribution Map\n",
    "    Gantt Chart\n",
    "    Heat Map\n",
    "    Highlight Table\n",
    "    Histogram\n",
    "    Matrix\n",
    "    Network\n",
    "    Polar Area\n",
    "    Radial Tree\n",
    "    Scatter Plot (2D or 3D)\n",
    "    Streamgraph\n",
    "    Text Tables\n",
    "    Timeline\n",
    "    Treemap\n",
    "    Wedge Stack Graph\n",
    "    Word Cloud\n",
    "    And any mix-and-match combination in a dashboard!\n",
    "\n"
   ]
  },
  {
   "cell_type": "markdown",
   "id": "a6e03397-c293-404e-bf3e-948da0a6a7a7",
   "metadata": {},
   "source": [
    "## Characteristics of a Good Visualizations\n",
    "    1.show the data\n",
    "    2.induce the viewer to think about the substance rather than about methodology, graphic design, the technology of graphic production, or something else\n",
    "    3.avoid distorting what the data has to say\n",
    "    4.present many numbers in a small space\n",
    "    5.make large data sets coherent\n",
    "    6.encourage the eye to compare different pieces of data\n",
    "    7.reveal the data at several levels of detail, from a broad overview to the fine structure\n",
    "    8.serve a reasonably clear purpose: description, exploration, tabulation, or decoration\n",
    "    9.be closely integrated with the statistical and verbal descriptions of a data set."
   ]
  },
  {
   "cell_type": "code",
   "execution_count": null,
   "id": "5914e350-5af2-496f-a323-d497a2a82775",
   "metadata": {},
   "outputs": [],
   "source": []
  }
 ],
 "metadata": {
  "kernelspec": {
   "display_name": "Python 3",
   "language": "python",
   "name": "python3"
  },
  "language_info": {
   "codemirror_mode": {
    "name": "ipython",
    "version": 3
   },
   "file_extension": ".py",
   "mimetype": "text/x-python",
   "name": "python",
   "nbconvert_exporter": "python",
   "pygments_lexer": "ipython3",
   "version": "3.9.5"
  }
 },
 "nbformat": 4,
 "nbformat_minor": 5
}
